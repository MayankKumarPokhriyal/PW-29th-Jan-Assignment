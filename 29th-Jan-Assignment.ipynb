{
 "cells": [
  {
   "cell_type": "markdown",
   "id": "9d25158f-4ad6-486c-813c-7add50d1ac59",
   "metadata": {},
   "source": [
    "Q1. Who developed Python ProgrammingLanguage?"
   ]
  },
  {
   "cell_type": "raw",
   "id": "b2a22f45-a350-4789-b810-680454eecefe",
   "metadata": {},
   "source": [
    "Guido van Rossum in 1991"
   ]
  },
  {
   "cell_type": "markdown",
   "id": "fc78a4aa-dbaf-4ba1-8957-07627b0a17bc",
   "metadata": {},
   "source": [
    "Q2. Which type of Programming does Python support?"
   ]
  },
  {
   "cell_type": "raw",
   "id": "6e4f0297-f84c-4b94-8c1d-e7162b74a5c0",
   "metadata": {},
   "source": [
    "Python supports three types of Programming paradigms\n",
    "\n",
    "1.Object Oriented programming paradigms\n",
    "2.Procedure Oriented programming paradigms\n",
    "3.Functional programming paradigms"
   ]
  },
  {
   "cell_type": "markdown",
   "id": "7d9a415d-7930-4acd-b58b-a784a54b4169",
   "metadata": {},
   "source": [
    "Q3. Is Python case sensitive when dealing with identifiers?"
   ]
  },
  {
   "cell_type": "raw",
   "id": "9e5da065-bff8-4817-8cf9-6be74900c4f7",
   "metadata": {},
   "source": [
    "Yes, Python is a case-sensitive language, i.e., it treats uppercase and lowercase characters differently.\n",
    "This applies to identifiers too. \n",
    "You must avoid using the same name with different cases while naming identifiers."
   ]
  },
  {
   "cell_type": "markdown",
   "id": "3c54e662-1755-4761-8433-d0a9f6d23f54",
   "metadata": {},
   "source": [
    "Q4. What is the correct extension of the Python file?"
   ]
  },
  {
   "cell_type": "raw",
   "id": "f1b62c0b-a6b0-44bc-89b2-1704cced2d39",
   "metadata": {},
   "source": [
    ".py"
   ]
  },
  {
   "cell_type": "markdown",
   "id": "baa01425-c949-4297-a5d2-c65fef717716",
   "metadata": {},
   "source": [
    "Q5. Is Python code compiled or interpreted?"
   ]
  },
  {
   "cell_type": "raw",
   "id": "fe748f47-6401-44d4-9b0d-bbbffd283396",
   "metadata": {},
   "source": [
    "Python is a “COMPILED INTERPRETED” language.\n",
    "\n",
    "This means when the Python program is run,\n",
    "\n",
    "1.First Python checks for program syntax\n",
    "2.Compiles and converts it to bytecode, and directly bytecode is loaded in system memory.\n",
    "3.Then compiled bytecode interpreted from memory to execute it."
   ]
  },
  {
   "cell_type": "markdown",
   "id": "86ac8e5d-5400-44f0-b9eb-3994ae954eb5",
   "metadata": {},
   "source": [
    "Q6. Name a few blocks of code used to define in Python language?"
   ]
  },
  {
   "cell_type": "raw",
   "id": "9b1636c0-6242-4a46-8c0c-c431e7948fe9",
   "metadata": {},
   "source": [
    "Block can be regarded as the grouping of statements for a specific purpose. \n",
    "Most programming languages like C, C++, and Java use braces { } to define a block of code. \n",
    "One of the distinctive features of Python is its use of indentation to highlight the blocks of code. \n",
    "Whitespace is used for indentation in Python. \n",
    "All statements with the same distance to the right belong to the same block of code. \n",
    "If a block has to be more deeply nested, it is simply indented further to the right. "
   ]
  },
  {
   "cell_type": "markdown",
   "id": "7704ba18-9049-4930-8b81-b3388f6c66f4",
   "metadata": {},
   "source": [
    "Q7. State a character used to give single-line comments in Python?"
   ]
  },
  {
   "cell_type": "raw",
   "id": "be57859a-8eb0-4aa3-a0f1-02e8d792d5d2",
   "metadata": {},
   "source": [
    "'#' Hash"
   ]
  },
  {
   "cell_type": "markdown",
   "id": "d4fd53ba-2e25-490e-b3a0-ef4ba609fb3f",
   "metadata": {},
   "source": [
    "Q8. Mention functions which can help us to find the version of python that we are currently working on?"
   ]
  },
  {
   "cell_type": "raw",
   "id": "b910b7ee-250c-477c-949a-4fc17546866d",
   "metadata": {},
   "source": [
    "To get the Version of the python Interpreter, they are listed as follows:\n",
    "\n",
    "Using sys.version method\n",
    "Using python_version() function\n",
    "Using Python -V command"
   ]
  },
  {
   "cell_type": "markdown",
   "id": "442c6ffe-5dc4-4231-bf66-496c1bf1f8a3",
   "metadata": {},
   "source": [
    "Q9. Python supports the creation of anonymous functions at runtime, using a construct called ........"
   ]
  },
  {
   "cell_type": "raw",
   "id": "7a1b044e-6340-4d67-8ffe-2b32f9f38130",
   "metadata": {},
   "source": [
    "Python supports the creation of anonymous functions (i.e. functions that are not bound to a name) at runtime, using a construct called lambda. Lambda functions are restricted to a single expression. They can be used wherever normal functions can be used."
   ]
  },
  {
   "cell_type": "markdown",
   "id": "3de999da-6bc1-4736-960f-94744e29aeb2",
   "metadata": {},
   "source": [
    "Q10. What does pip stand for python?"
   ]
  },
  {
   "cell_type": "raw",
   "id": "1072ff55-19ad-4a1b-b2f7-1b8d3d69c5f8",
   "metadata": {},
   "source": [
    "PIP is a package manager for Python packages, or modules\n",
    "PIP is a recursive acronym for Pip Installs Packages or Pip Installs Python\n",
    "PIP also stands for Preferred Installer Program"
   ]
  },
  {
   "cell_type": "markdown",
   "id": "556d2012-ab04-41e6-b25c-0d61330a20ec",
   "metadata": {},
   "source": [
    "Q1. Mention a few built-in functions in python?"
   ]
  },
  {
   "cell_type": "raw",
   "id": "b67ee611-7502-4bb2-a154-5cf1fee66c21",
   "metadata": {},
   "source": [
    "A\n",
    "abs()\n",
    "aiter()\n",
    "all()\n",
    "any()\n",
    "anext()\n",
    "ascii()\n",
    "\n",
    "B\n",
    "bin()\n",
    "bool()\n",
    "breakpoint()\n",
    "bytearray()\n",
    "bytes()\n",
    "\n",
    "C\n",
    "callable()\n",
    "chr()\n",
    "classmethod()\n",
    "compile()\n",
    "complex()\n",
    "\n",
    "D\n",
    "delattr()\n",
    "dict()\n",
    "dir()\n",
    "divmod()\n",
    "\n",
    "E\n",
    "enumerate()\n",
    "eval()\n",
    "exec()\n",
    "\n",
    "F\n",
    "filter()\n",
    "float()\n",
    "format()\n",
    "frozenset()\n",
    "\n",
    "G\n",
    "getattr()\n",
    "globals()\n",
    "\n",
    "H\n",
    "hasattr()\n",
    "hash()\n",
    "help()\n",
    "hex()\n",
    "\n",
    "I\n",
    "id()\n",
    "input()\n",
    "int()\n",
    "isinstance()\n",
    "issubclass()\n",
    "iter()\n",
    "\n",
    "L\n",
    "len()\n",
    "list()\n",
    "locals()\n",
    "\n",
    "M\n",
    "map()\n",
    "max()\n",
    "memoryview()\n",
    "min()\n",
    "\n",
    "N\n",
    "next()\n",
    "\n",
    "O\n",
    "object()\n",
    "oct()\n",
    "open()\n",
    "ord()\n",
    "\n",
    "P\n",
    "pow()\n",
    "print()\n",
    "property()\n",
    "\n",
    "R\n",
    "range()\n",
    "repr()\n",
    "reversed()\n",
    "round()\n",
    "\n",
    "S\n",
    "set()\n",
    "setattr()\n",
    "slice()\n",
    "sorted()\n",
    "staticmethod()\n",
    "str()\n",
    "sum()\n",
    "super()\n",
    "\n",
    "T\n",
    "tuple()\n",
    "type()\n",
    "\n",
    "V\n",
    "vars()\n",
    "\n",
    "Z\n",
    "zip()\n",
    "\n",
    "_ \n",
    "__import__()"
   ]
  },
  {
   "cell_type": "markdown",
   "id": "06ec881b-f4f6-4b42-b0d2-40a11afa0b8a",
   "metadata": {},
   "source": [
    "Q12. What is the maximum possible length of an identifier in Python?"
   ]
  },
  {
   "cell_type": "raw",
   "id": "b3fb2569-d8c3-44eb-83bc-eb7784f6cd72",
   "metadata": {},
   "source": [
    "79 characters"
   ]
  },
  {
   "cell_type": "markdown",
   "id": "abd9260f-c34c-4791-b732-5b4623a74001",
   "metadata": {},
   "source": [
    "Q13. What are the benefits of using Python?"
   ]
  },
  {
   "cell_type": "raw",
   "id": "074c9eb3-fe6b-4ff4-9e64-df9d908e5888",
   "metadata": {},
   "source": [
    "VERSATILITY\n",
    "OPEN SOURCE\n",
    "VIBRANT COMMUNITY\n",
    "WORK WITH LESS CODE\n",
    "EASY INTEGRATIONS\n",
    "PRODUCTIVITY\n",
    "OBJECT-ORIENTED PROGRAMMING\n",
    "SAFETY AND SECURITY\n",
    "EASY SYNTAX\n",
    "HIGH-LEVEL LANGUAGE AND EASY READABILITY"
   ]
  },
  {
   "cell_type": "markdown",
   "id": "3d475602-a827-4a1e-bc8f-2d4d07e26e79",
   "metadata": {},
   "source": [
    "Q14. How is memory managed in Python?"
   ]
  },
  {
   "cell_type": "raw",
   "id": "f9253fdc-6399-43a1-b584-e45f277e6c37",
   "metadata": {},
   "source": [
    "According to the Python memory management documentation, Python has a private heap that stores our program’s objects and data structures. Python memory manager takes care of the bulk of the memory management work and allows us to concentrate on our code."
   ]
  },
  {
   "cell_type": "markdown",
   "id": "affe5796-b704-453e-9a17-c3a4baa49e15",
   "metadata": {},
   "source": [
    "Q15. How to install Python on Windows and set path variables?"
   ]
  },
  {
   "cell_type": "raw",
   "id": "31b8ca28-2e1a-4a99-bd48-f704c3a3aff1",
   "metadata": {},
   "source": [
    "Install python from this link https://www.python.org/downloads/\n",
    "After this, install it on your PC. Look for the location where PYTHON has been installed on your PC using tge following command on your command prompt: cmd python.\n",
    "Then go to advanced system settings and add new variable and name it as PYTHON_NAME and paste the copied path.\n",
    "Then look for the path variable, select it's value and select edit\n",
    "Add a semicolon towards the end of the value if it's not present and then type %PYTHON_HOME%"
   ]
  },
  {
   "cell_type": "markdown",
   "id": "c423ea34-a38b-414d-bb02-88f8573aac30",
   "metadata": {},
   "source": [
    "Q16. Is indentation requiredin python?"
   ]
  },
  {
   "cell_type": "raw",
   "id": "90f78ce1-16a1-42c9-a89d-05e27307e8a0",
   "metadata": {},
   "source": [
    "yes"
   ]
  }
 ],
 "metadata": {
  "kernelspec": {
   "display_name": "Python 3 (ipykernel)",
   "language": "python",
   "name": "python3"
  },
  "language_info": {
   "codemirror_mode": {
    "name": "ipython",
    "version": 3
   },
   "file_extension": ".py",
   "mimetype": "text/x-python",
   "name": "python",
   "nbconvert_exporter": "python",
   "pygments_lexer": "ipython3",
   "version": "3.10.8"
  }
 },
 "nbformat": 4,
 "nbformat_minor": 5
}
